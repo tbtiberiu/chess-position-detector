{
 "cells": [
  {
   "cell_type": "code",
   "execution_count": 6,
   "metadata": {},
   "outputs": [],
   "source": [
    "from detectors.chess_pieces_detector import ChessPiecesDetector\n",
    "from detectors.chessboard_detector import ChessboardDetector\n",
    "import cv2 as cv"
   ]
  },
  {
   "cell_type": "code",
   "execution_count": 7,
   "metadata": {},
   "outputs": [],
   "source": [
    "chess_pieces_detector = ChessPiecesDetector('models/chess_pieces.model.pt')"
   ]
  },
  {
   "cell_type": "code",
   "execution_count": 8,
   "metadata": {},
   "outputs": [
    {
     "name": "stdout",
     "output_type": "stream",
     "text": [
      "\n",
      "image 1/1 c:\\Users\\tiber\\Documents\\Licenta\\chess-position-detector\\data\\chess_pieces\\test\\images\\f1a24b6bb778ee11ba33687415aa84f2_jpg.rf.f2646d2d46b39f6510975f24d554bae1.jpg: 416x416 1 black-king, 1 black-knight, 3 black-pawns, 1 black-rook, 1 white-bishop, 1 white-king, 1 white-knight, 3 white-pawns, 1 white-queen, 1 white-rook, 37.8ms\n",
      "Speed: 1.0ms preprocess, 37.8ms inference, 7.7ms postprocess per image at shape (1, 3, 416, 416)\n",
      "Results saved to \u001b[1mruns\\detect\\predict15\u001b[0m\n"
     ]
    },
    {
     "data": {
      "text/plain": [
       "[ultralytics.engine.results.Results object with attributes:\n",
       " \n",
       " boxes: ultralytics.engine.results.Boxes object\n",
       " keypoints: None\n",
       " masks: None\n",
       " names: {0: 'bishop', 1: 'black-bishop', 2: 'black-king', 3: 'black-knight', 4: 'black-pawn', 5: 'black-queen', 6: 'black-rook', 7: 'white-bishop', 8: 'white-king', 9: 'white-knight', 10: 'white-pawn', 11: 'white-queen', 12: 'white-rook'}\n",
       " obb: None\n",
       " orig_img: array([[[223, 225, 225],\n",
       "         [221, 223, 223],\n",
       "         [219, 221, 221],\n",
       "         ...,\n",
       "         [218, 220, 220],\n",
       "         [218, 220, 220],\n",
       "         [218, 220, 220]],\n",
       " \n",
       "        [[223, 225, 225],\n",
       "         [221, 223, 223],\n",
       "         [219, 221, 221],\n",
       "         ...,\n",
       "         [218, 220, 220],\n",
       "         [218, 220, 220],\n",
       "         [218, 220, 220]],\n",
       " \n",
       "        [[223, 225, 225],\n",
       "         [221, 223, 223],\n",
       "         [218, 220, 220],\n",
       "         ...,\n",
       "         [218, 220, 220],\n",
       "         [218, 220, 220],\n",
       "         [218, 220, 220]],\n",
       " \n",
       "        ...,\n",
       " \n",
       "        [[202, 204, 204],\n",
       "         [207, 209, 209],\n",
       "         [212, 214, 214],\n",
       "         ...,\n",
       "         [217, 222, 221],\n",
       "         [219, 224, 223],\n",
       "         [220, 225, 224]],\n",
       " \n",
       "        [[202, 204, 204],\n",
       "         [208, 210, 210],\n",
       "         [213, 215, 215],\n",
       "         ...,\n",
       "         [217, 222, 221],\n",
       "         [219, 224, 223],\n",
       "         [221, 226, 225]],\n",
       " \n",
       "        [[202, 204, 204],\n",
       "         [208, 210, 210],\n",
       "         [214, 216, 216],\n",
       "         ...,\n",
       "         [217, 222, 221],\n",
       "         [219, 224, 223],\n",
       "         [222, 227, 226]]], dtype=uint8)\n",
       " orig_shape: (416, 416)\n",
       " path: 'c:\\\\Users\\\\tiber\\\\Documents\\\\Licenta\\\\chess-position-detector\\\\data\\\\chess_pieces\\\\test\\\\images\\\\f1a24b6bb778ee11ba33687415aa84f2_jpg.rf.f2646d2d46b39f6510975f24d554bae1.jpg'\n",
       " probs: None\n",
       " save_dir: 'runs\\\\detect\\\\predict15'\n",
       " speed: {'preprocess': 1.0018348693847656, 'inference': 37.82153129577637, 'postprocess': 7.669210433959961}]"
      ]
     },
     "execution_count": 8,
     "metadata": {},
     "output_type": "execute_result"
    }
   ],
   "source": [
    "chess_pieces_detector.detect('data/chess_pieces/test/images/f1a24b6bb778ee11ba33687415aa84f2_jpg.rf.f2646d2d46b39f6510975f24d554bae1.jpg')"
   ]
  },
  {
   "cell_type": "code",
   "execution_count": 9,
   "metadata": {},
   "outputs": [
    {
     "name": "stdout",
     "output_type": "stream",
     "text": [
      "\n",
      "image 1/1 c:\\Users\\tiber\\Documents\\Licenta\\chess-position-detector\\test\\in\\7.jpg: 416x416 1 black-knight, 3 black-rooks, 1 white-rook, 39.4ms\n",
      "Speed: 1.5ms preprocess, 39.4ms inference, 0.0ms postprocess per image at shape (1, 3, 416, 416)\n",
      "Results saved to \u001b[1mruns\\detect\\predict15\u001b[0m\n"
     ]
    },
    {
     "data": {
      "text/plain": [
       "[ultralytics.engine.results.Results object with attributes:\n",
       " \n",
       " boxes: ultralytics.engine.results.Boxes object\n",
       " keypoints: None\n",
       " masks: None\n",
       " names: {0: 'bishop', 1: 'black-bishop', 2: 'black-king', 3: 'black-knight', 4: 'black-pawn', 5: 'black-queen', 6: 'black-rook', 7: 'white-bishop', 8: 'white-king', 9: 'white-knight', 10: 'white-pawn', 11: 'white-queen', 12: 'white-rook'}\n",
       " obb: None\n",
       " orig_img: array([[[152, 150, 170],\n",
       "         [151, 149, 168],\n",
       "         [148, 147, 163],\n",
       "         ...,\n",
       "         [  0,   0,   0],\n",
       "         [  0,   0,   0],\n",
       "         [  1,   1,   1]],\n",
       " \n",
       "        [[152, 150, 170],\n",
       "         [150, 148, 167],\n",
       "         [147, 146, 162],\n",
       "         ...,\n",
       "         [  5,   5,   5],\n",
       "         [  6,   6,   6],\n",
       "         [  6,   6,   6]],\n",
       " \n",
       "        [[150, 148, 167],\n",
       "         [149, 148, 164],\n",
       "         [146, 146, 160],\n",
       "         ...,\n",
       "         [  0,   0,   1],\n",
       "         [  0,   0,   1],\n",
       "         [  0,   0,   1]],\n",
       " \n",
       "        ...,\n",
       " \n",
       "        [[184, 181, 177],\n",
       "         [184, 181, 177],\n",
       "         [184, 181, 176],\n",
       "         ...,\n",
       "         [ 60,  48,  76],\n",
       "         [ 60,  48,  76],\n",
       "         [ 60,  48,  76]],\n",
       " \n",
       "        [[184, 181, 177],\n",
       "         [184, 181, 177],\n",
       "         [184, 181, 176],\n",
       "         ...,\n",
       "         [ 61,  49,  77],\n",
       "         [ 61,  49,  77],\n",
       "         [ 61,  49,  77]],\n",
       " \n",
       "        [[184, 181, 177],\n",
       "         [184, 181, 177],\n",
       "         [184, 181, 176],\n",
       "         ...,\n",
       "         [ 61,  49,  77],\n",
       "         [ 61,  49,  77],\n",
       "         [ 61,  49,  77]]], dtype=uint8)\n",
       " orig_shape: (1816, 1816)\n",
       " path: 'c:\\\\Users\\\\tiber\\\\Documents\\\\Licenta\\\\chess-position-detector\\\\test\\\\in\\\\7.jpg'\n",
       " probs: None\n",
       " save_dir: 'runs\\\\detect\\\\predict15'\n",
       " speed: {'preprocess': 1.5006065368652344, 'inference': 39.37339782714844, 'postprocess': 0.0}]"
      ]
     },
     "execution_count": 9,
     "metadata": {},
     "output_type": "execute_result"
    }
   ],
   "source": [
    "chess_pieces_detector.detect('test/in/7.jpg')"
   ]
  },
  {
   "cell_type": "code",
   "execution_count": 10,
   "metadata": {},
   "outputs": [
    {
     "name": "stdout",
     "output_type": "stream",
     "text": [
      "\n",
      "0: 416x416 1 black-king, 1 black-knight, 3 black-pawns, 1 black-rook, 1 white-bishop, 1 white-king, 1 white-knight, 3 white-pawns, 1 white-queen, 1 white-rook, 43.1ms\n",
      "Speed: 1.0ms preprocess, 43.1ms inference, 1.0ms postprocess per image at shape (1, 3, 416, 416)\n",
      "Results saved to \u001b[1mruns\\detect\\predict15\u001b[0m\n",
      "[ultralytics.engine.results.Results object with attributes:\n",
      "\n",
      "boxes: ultralytics.engine.results.Boxes object\n",
      "keypoints: None\n",
      "masks: None\n",
      "names: {0: 'bishop', 1: 'black-bishop', 2: 'black-king', 3: 'black-knight', 4: 'black-pawn', 5: 'black-queen', 6: 'black-rook', 7: 'white-bishop', 8: 'white-king', 9: 'white-knight', 10: 'white-pawn', 11: 'white-queen', 12: 'white-rook'}\n",
      "obb: None\n",
      "orig_img: array([[[219, 227, 226],\n",
      "        [215, 225, 223],\n",
      "        [212, 224, 223],\n",
      "        ...,\n",
      "        [222, 220, 225],\n",
      "        [222, 218, 223],\n",
      "        [222, 219, 221]],\n",
      "\n",
      "       [[223, 225, 227],\n",
      "        [219, 226, 226],\n",
      "        [213, 223, 223],\n",
      "        ...,\n",
      "        [224, 219, 225],\n",
      "        [224, 218, 223],\n",
      "        [225, 219, 224]],\n",
      "\n",
      "       [[225, 224, 226],\n",
      "        [221, 224, 226],\n",
      "        [214, 222, 224],\n",
      "        ...,\n",
      "        [223, 219, 225],\n",
      "        [224, 218, 223],\n",
      "        [225, 219, 224]],\n",
      "\n",
      "       ...,\n",
      "\n",
      "       [[161, 194, 202],\n",
      "        [161, 193, 199],\n",
      "        [161, 193, 199],\n",
      "        ...,\n",
      "        [166, 202, 209],\n",
      "        [163, 200, 206],\n",
      "        [162, 199, 204]],\n",
      "\n",
      "       [[159, 192, 201],\n",
      "        [161, 193, 199],\n",
      "        [161, 193, 199],\n",
      "        ...,\n",
      "        [167, 201, 208],\n",
      "        [166, 199, 206],\n",
      "        [164, 197, 205]],\n",
      "\n",
      "       [[158, 191, 199],\n",
      "        [161, 193, 199],\n",
      "        [161, 193, 199],\n",
      "        ...,\n",
      "        [170, 200, 208],\n",
      "        [169, 197, 207],\n",
      "        [167, 195, 206]]], dtype=uint8)\n",
      "orig_shape: (360, 341)\n",
      "path: 'image0.jpg'\n",
      "probs: None\n",
      "save_dir: 'runs\\\\detect\\\\predict15'\n",
      "speed: {'preprocess': 1.0080337524414062, 'inference': 43.108463287353516, 'postprocess': 0.9934902191162109}]\n"
     ]
    }
   ],
   "source": [
    "image_path = 'data/chess_pieces/test/images/f1a24b6bb778ee11ba33687415aa84f2_jpg.rf.f2646d2d46b39f6510975f24d554bae1.jpg'\n",
    "# image_path = 'test/in/cc7.jpg'\n",
    "original_image = cv.imread(image_path, cv.IMREAD_COLOR)\n",
    "\n",
    "chessboard_detector = ChessboardDetector(original_image)\n",
    "chessboard_detector.detect()\n",
    "chessboard_detector.transform_and_detect()\n",
    "transformed_image = chessboard_detector.transform_and_detect()\n",
    "\n",
    "results = chess_pieces_detector.detect(transformed_image)\n",
    "print(results)"
   ]
  }
 ],
 "metadata": {
  "kernelspec": {
   "display_name": "neural-chess",
   "language": "python",
   "name": "python3"
  },
  "language_info": {
   "codemirror_mode": {
    "name": "ipython",
    "version": 3
   },
   "file_extension": ".py",
   "mimetype": "text/x-python",
   "name": "python",
   "nbconvert_exporter": "python",
   "pygments_lexer": "ipython3",
   "version": "3.10.13"
  }
 },
 "nbformat": 4,
 "nbformat_minor": 2
}
